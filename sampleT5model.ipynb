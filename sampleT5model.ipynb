{
 "cells": [
  {
   "cell_type": "code",
   "execution_count": null,
   "metadata": {},
   "outputs": [],
   "source": [
    "from transformers import T5ForConditionalGeneration, T5Tokenizer\n",
    " \n",
    "def generate_answer(context, question, model, tokenizer):\n",
    "    # Concatenate the question and context with appropriate separation\n",
    "    input_text = f\"question: {question} context: {context}\"\n",
    " \n",
    "    # Tokenize the input text\n",
    "    input_ids = tokenizer.encode(input_text, return_tensors=\"pt\")\n",
    " \n",
    "    # Generate the answer using the T5 model\n",
    "    output = model.generate(input_ids)\n",
    " \n",
    "    # Decode and return the answer\n",
    "    answer = tokenizer.decode(output[0], skip_special_tokens=True)\n",
    "    return answer\n",
    " \n",
    "# Load the T5 model and tokenizer\n",
    "model_name = \"/opt/t5-small\"\n",
    "model = T5ForConditionalGeneration.from_pretrained(model_name)\n",
    "tokenizer = T5Tokenizer.from_pretrained(model_name)\n",
    " \n",
    "# Example context and question\n",
    "context = \"Albert Einstein was a German-born theoretical physicist who developed the theory of relativity.\"\n",
    "question = \"What is Albert Einstein known for?\"\n",
    " \n",
    "# Generate and print the answer\n",
    "answer = generate_answer(context, question, model, tokenizer)\n",
    "print(\"Answer:\", answer)"
   ]
  }
 ],
 "metadata": {
  "language_info": {
   "name": "python"
  }
 },
 "nbformat": 4,
 "nbformat_minor": 2
}
